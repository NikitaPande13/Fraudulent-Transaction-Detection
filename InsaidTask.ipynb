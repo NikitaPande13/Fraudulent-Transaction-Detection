{
 "cells": [
  {
   "cell_type": "markdown",
   "id": "6a0a8374",
   "metadata": {},
   "source": [
    "### dictionary represents definitions of each variable"
   ]
  },
  {
   "cell_type": "code",
   "execution_count": 1,
   "id": "0f79be9e",
   "metadata": {},
   "outputs": [
    {
     "name": "stdout",
     "output_type": "stream",
     "text": [
      "step - maps a unit of time in the real world. In this case 1 step is 1 hour of time. Total steps 744 (30 days simulation).\n",
      "\n",
      "type - CASH-IN, CASH-OUT, DEBIT, PAYMENT and TRANSFER.\n",
      "\n",
      "amount - amount of the transaction in local currency.\n",
      "\n",
      "nameOrig - customer who started the transaction\n",
      "\n",
      "oldbalanceOrg - initial balance before the transaction\n",
      "\n",
      "newbalanceOrig - new balance after the transaction\n",
      "\n",
      "nameDest - customer who is the recipient of the transaction\n",
      "\n",
      "oldbalanceDest - initial balance recipient before the transaction. Note that there is not information for customers that start with M (Merchants).\n",
      "\n",
      "newbalanceDest - new balance recipient after the transaction. Note that there is not information for customers that start with M (Merchants).\n",
      "\n",
      "isFraud - This is the transactions made by the fraudulent agents inside the simulation. In this specific dataset the fraudulent behavior of the agents aims to profit by taking control or customers accounts and try to empty the funds by transferring to another account and then cashing out of the system.\n",
      "\n",
      "isFlaggedFraud - The business model aims to control massive transfers from one account to another and flags illegal attempts. An illegal attempt in this dataset is an attempt to transfer more than 200.000 in a single transaction.\n"
     ]
    }
   ],
   "source": [
    "#the dictionary represents definitions of each variable\n",
    "with open('Data Dictionary.txt') as text_file:\n",
    "    dictionary = text_file.read()\n",
    "print(dictionary)"
   ]
  },
  {
   "cell_type": "markdown",
   "id": "d7570d81",
   "metadata": {},
   "source": [
    "### libraries Import"
   ]
  },
  {
   "cell_type": "code",
   "execution_count": 2,
   "id": "65c05442",
   "metadata": {},
   "outputs": [],
   "source": [
    "import pandas as pd\n",
    "import numpy as np\n",
    "\n",
    "import matplotlib.pyplot as plt\n",
    "import seaborn as sns\n",
    "import datetime as dt\n",
    "import math\n",
    "import statsmodels.api as sm\n",
    "\n",
    "from sklearn.model_selection import train_test_split\n",
    "from sklearn.preprocessing import StandardScaler\n",
    "from sklearn.ensemble import RandomForestClassifier\n",
    "from sklearn.metrics import confusion_matrix, classification_report\n",
    "from imblearn.over_sampling import SMOTE"
   ]
  },
  {
   "cell_type": "markdown",
   "id": "17708551",
   "metadata": {},
   "source": [
    "### Data Import"
   ]
  },
  {
   "cell_type": "code",
   "execution_count": 3,
   "id": "084b4ab2",
   "metadata": {},
   "outputs": [],
   "source": [
    "Fraud = pd.read_csv(r\"C:\\Users\\Shree\\Desktop\\Assessment\\Fraud.csv\")"
   ]
  },
  {
   "cell_type": "markdown",
   "id": "f497df12",
   "metadata": {},
   "source": [
    "## 1. Data cleaning including missing values, outliers and multi-collinearity. "
   ]
  },
  {
   "cell_type": "markdown",
   "id": "2c42d2ae",
   "metadata": {},
   "source": [
    "### Data Structure"
   ]
  },
  {
   "cell_type": "markdown",
   "id": "eabc2d54",
   "metadata": {},
   "source": [
    "* Handling missing values\n",
    "* Handling outliers\n",
    "* Handling multi-collinearity "
   ]
  },
  {
   "cell_type": "code",
   "execution_count": 4,
   "id": "2ac286da",
   "metadata": {},
   "outputs": [
    {
     "data": {
      "text/html": [
       "<div>\n",
       "<style scoped>\n",
       "    .dataframe tbody tr th:only-of-type {\n",
       "        vertical-align: middle;\n",
       "    }\n",
       "\n",
       "    .dataframe tbody tr th {\n",
       "        vertical-align: top;\n",
       "    }\n",
       "\n",
       "    .dataframe thead th {\n",
       "        text-align: right;\n",
       "    }\n",
       "</style>\n",
       "<table border=\"1\" class=\"dataframe\">\n",
       "  <thead>\n",
       "    <tr style=\"text-align: right;\">\n",
       "      <th></th>\n",
       "      <th>step</th>\n",
       "      <th>type</th>\n",
       "      <th>amount</th>\n",
       "      <th>nameOrig</th>\n",
       "      <th>oldbalanceOrg</th>\n",
       "      <th>newbalanceOrig</th>\n",
       "      <th>nameDest</th>\n",
       "      <th>oldbalanceDest</th>\n",
       "      <th>newbalanceDest</th>\n",
       "      <th>isFraud</th>\n",
       "      <th>isFlaggedFraud</th>\n",
       "    </tr>\n",
       "  </thead>\n",
       "  <tbody>\n",
       "    <tr>\n",
       "      <th>0</th>\n",
       "      <td>1</td>\n",
       "      <td>PAYMENT</td>\n",
       "      <td>9839.64</td>\n",
       "      <td>C1231006815</td>\n",
       "      <td>170136.0</td>\n",
       "      <td>160296.36</td>\n",
       "      <td>M1979787155</td>\n",
       "      <td>0.0</td>\n",
       "      <td>0.0</td>\n",
       "      <td>0</td>\n",
       "      <td>0</td>\n",
       "    </tr>\n",
       "    <tr>\n",
       "      <th>1</th>\n",
       "      <td>1</td>\n",
       "      <td>PAYMENT</td>\n",
       "      <td>1864.28</td>\n",
       "      <td>C1666544295</td>\n",
       "      <td>21249.0</td>\n",
       "      <td>19384.72</td>\n",
       "      <td>M2044282225</td>\n",
       "      <td>0.0</td>\n",
       "      <td>0.0</td>\n",
       "      <td>0</td>\n",
       "      <td>0</td>\n",
       "    </tr>\n",
       "    <tr>\n",
       "      <th>2</th>\n",
       "      <td>1</td>\n",
       "      <td>TRANSFER</td>\n",
       "      <td>181.00</td>\n",
       "      <td>C1305486145</td>\n",
       "      <td>181.0</td>\n",
       "      <td>0.00</td>\n",
       "      <td>C553264065</td>\n",
       "      <td>0.0</td>\n",
       "      <td>0.0</td>\n",
       "      <td>1</td>\n",
       "      <td>0</td>\n",
       "    </tr>\n",
       "    <tr>\n",
       "      <th>3</th>\n",
       "      <td>1</td>\n",
       "      <td>CASH_OUT</td>\n",
       "      <td>181.00</td>\n",
       "      <td>C840083671</td>\n",
       "      <td>181.0</td>\n",
       "      <td>0.00</td>\n",
       "      <td>C38997010</td>\n",
       "      <td>21182.0</td>\n",
       "      <td>0.0</td>\n",
       "      <td>1</td>\n",
       "      <td>0</td>\n",
       "    </tr>\n",
       "    <tr>\n",
       "      <th>4</th>\n",
       "      <td>1</td>\n",
       "      <td>PAYMENT</td>\n",
       "      <td>11668.14</td>\n",
       "      <td>C2048537720</td>\n",
       "      <td>41554.0</td>\n",
       "      <td>29885.86</td>\n",
       "      <td>M1230701703</td>\n",
       "      <td>0.0</td>\n",
       "      <td>0.0</td>\n",
       "      <td>0</td>\n",
       "      <td>0</td>\n",
       "    </tr>\n",
       "  </tbody>\n",
       "</table>\n",
       "</div>"
      ],
      "text/plain": [
       "   step      type    amount     nameOrig  oldbalanceOrg  newbalanceOrig  \\\n",
       "0     1   PAYMENT   9839.64  C1231006815       170136.0       160296.36   \n",
       "1     1   PAYMENT   1864.28  C1666544295        21249.0        19384.72   \n",
       "2     1  TRANSFER    181.00  C1305486145          181.0            0.00   \n",
       "3     1  CASH_OUT    181.00   C840083671          181.0            0.00   \n",
       "4     1   PAYMENT  11668.14  C2048537720        41554.0        29885.86   \n",
       "\n",
       "      nameDest  oldbalanceDest  newbalanceDest  isFraud  isFlaggedFraud  \n",
       "0  M1979787155             0.0             0.0        0               0  \n",
       "1  M2044282225             0.0             0.0        0               0  \n",
       "2   C553264065             0.0             0.0        1               0  \n",
       "3    C38997010         21182.0             0.0        1               0  \n",
       "4  M1230701703             0.0             0.0        0               0  "
      ]
     },
     "execution_count": 4,
     "metadata": {},
     "output_type": "execute_result"
    }
   ],
   "source": [
    "Fraud.head()"
   ]
  },
  {
   "cell_type": "code",
   "execution_count": 5,
   "id": "051e697c",
   "metadata": {},
   "outputs": [
    {
     "name": "stdout",
     "output_type": "stream",
     "text": [
      "<class 'pandas.core.frame.DataFrame'>\n",
      "RangeIndex: 6362620 entries, 0 to 6362619\n",
      "Data columns (total 11 columns):\n",
      " #   Column          Dtype  \n",
      "---  ------          -----  \n",
      " 0   step            int64  \n",
      " 1   type            object \n",
      " 2   amount          float64\n",
      " 3   nameOrig        object \n",
      " 4   oldbalanceOrg   float64\n",
      " 5   newbalanceOrig  float64\n",
      " 6   nameDest        object \n",
      " 7   oldbalanceDest  float64\n",
      " 8   newbalanceDest  float64\n",
      " 9   isFraud         int64  \n",
      " 10  isFlaggedFraud  int64  \n",
      "dtypes: float64(5), int64(3), object(3)\n",
      "memory usage: 534.0+ MB\n"
     ]
    }
   ],
   "source": [
    "Fraud.info()"
   ]
  },
  {
   "cell_type": "code",
   "execution_count": 6,
   "id": "f785da7d",
   "metadata": {},
   "outputs": [
    {
     "data": {
      "text/html": [
       "<div>\n",
       "<style scoped>\n",
       "    .dataframe tbody tr th:only-of-type {\n",
       "        vertical-align: middle;\n",
       "    }\n",
       "\n",
       "    .dataframe tbody tr th {\n",
       "        vertical-align: top;\n",
       "    }\n",
       "\n",
       "    .dataframe thead th {\n",
       "        text-align: right;\n",
       "    }\n",
       "</style>\n",
       "<table border=\"1\" class=\"dataframe\">\n",
       "  <thead>\n",
       "    <tr style=\"text-align: right;\">\n",
       "      <th></th>\n",
       "      <th>step</th>\n",
       "      <th>amount</th>\n",
       "      <th>oldbalanceOrg</th>\n",
       "      <th>newbalanceOrig</th>\n",
       "      <th>oldbalanceDest</th>\n",
       "      <th>newbalanceDest</th>\n",
       "      <th>isFraud</th>\n",
       "      <th>isFlaggedFraud</th>\n",
       "    </tr>\n",
       "  </thead>\n",
       "  <tbody>\n",
       "    <tr>\n",
       "      <th>count</th>\n",
       "      <td>6.362620e+06</td>\n",
       "      <td>6.362620e+06</td>\n",
       "      <td>6.362620e+06</td>\n",
       "      <td>6.362620e+06</td>\n",
       "      <td>6.362620e+06</td>\n",
       "      <td>6.362620e+06</td>\n",
       "      <td>6.362620e+06</td>\n",
       "      <td>6.362620e+06</td>\n",
       "    </tr>\n",
       "    <tr>\n",
       "      <th>mean</th>\n",
       "      <td>2.433972e+02</td>\n",
       "      <td>1.798619e+05</td>\n",
       "      <td>8.338831e+05</td>\n",
       "      <td>8.551137e+05</td>\n",
       "      <td>1.100702e+06</td>\n",
       "      <td>1.224996e+06</td>\n",
       "      <td>1.290820e-03</td>\n",
       "      <td>2.514687e-06</td>\n",
       "    </tr>\n",
       "    <tr>\n",
       "      <th>std</th>\n",
       "      <td>1.423320e+02</td>\n",
       "      <td>6.038582e+05</td>\n",
       "      <td>2.888243e+06</td>\n",
       "      <td>2.924049e+06</td>\n",
       "      <td>3.399180e+06</td>\n",
       "      <td>3.674129e+06</td>\n",
       "      <td>3.590480e-02</td>\n",
       "      <td>1.585775e-03</td>\n",
       "    </tr>\n",
       "    <tr>\n",
       "      <th>min</th>\n",
       "      <td>1.000000e+00</td>\n",
       "      <td>0.000000e+00</td>\n",
       "      <td>0.000000e+00</td>\n",
       "      <td>0.000000e+00</td>\n",
       "      <td>0.000000e+00</td>\n",
       "      <td>0.000000e+00</td>\n",
       "      <td>0.000000e+00</td>\n",
       "      <td>0.000000e+00</td>\n",
       "    </tr>\n",
       "    <tr>\n",
       "      <th>25%</th>\n",
       "      <td>1.560000e+02</td>\n",
       "      <td>1.338957e+04</td>\n",
       "      <td>0.000000e+00</td>\n",
       "      <td>0.000000e+00</td>\n",
       "      <td>0.000000e+00</td>\n",
       "      <td>0.000000e+00</td>\n",
       "      <td>0.000000e+00</td>\n",
       "      <td>0.000000e+00</td>\n",
       "    </tr>\n",
       "    <tr>\n",
       "      <th>50%</th>\n",
       "      <td>2.390000e+02</td>\n",
       "      <td>7.487194e+04</td>\n",
       "      <td>1.420800e+04</td>\n",
       "      <td>0.000000e+00</td>\n",
       "      <td>1.327057e+05</td>\n",
       "      <td>2.146614e+05</td>\n",
       "      <td>0.000000e+00</td>\n",
       "      <td>0.000000e+00</td>\n",
       "    </tr>\n",
       "    <tr>\n",
       "      <th>75%</th>\n",
       "      <td>3.350000e+02</td>\n",
       "      <td>2.087215e+05</td>\n",
       "      <td>1.073152e+05</td>\n",
       "      <td>1.442584e+05</td>\n",
       "      <td>9.430367e+05</td>\n",
       "      <td>1.111909e+06</td>\n",
       "      <td>0.000000e+00</td>\n",
       "      <td>0.000000e+00</td>\n",
       "    </tr>\n",
       "    <tr>\n",
       "      <th>max</th>\n",
       "      <td>7.430000e+02</td>\n",
       "      <td>9.244552e+07</td>\n",
       "      <td>5.958504e+07</td>\n",
       "      <td>4.958504e+07</td>\n",
       "      <td>3.560159e+08</td>\n",
       "      <td>3.561793e+08</td>\n",
       "      <td>1.000000e+00</td>\n",
       "      <td>1.000000e+00</td>\n",
       "    </tr>\n",
       "  </tbody>\n",
       "</table>\n",
       "</div>"
      ],
      "text/plain": [
       "               step        amount  oldbalanceOrg  newbalanceOrig  \\\n",
       "count  6.362620e+06  6.362620e+06   6.362620e+06    6.362620e+06   \n",
       "mean   2.433972e+02  1.798619e+05   8.338831e+05    8.551137e+05   \n",
       "std    1.423320e+02  6.038582e+05   2.888243e+06    2.924049e+06   \n",
       "min    1.000000e+00  0.000000e+00   0.000000e+00    0.000000e+00   \n",
       "25%    1.560000e+02  1.338957e+04   0.000000e+00    0.000000e+00   \n",
       "50%    2.390000e+02  7.487194e+04   1.420800e+04    0.000000e+00   \n",
       "75%    3.350000e+02  2.087215e+05   1.073152e+05    1.442584e+05   \n",
       "max    7.430000e+02  9.244552e+07   5.958504e+07    4.958504e+07   \n",
       "\n",
       "       oldbalanceDest  newbalanceDest       isFraud  isFlaggedFraud  \n",
       "count    6.362620e+06    6.362620e+06  6.362620e+06    6.362620e+06  \n",
       "mean     1.100702e+06    1.224996e+06  1.290820e-03    2.514687e-06  \n",
       "std      3.399180e+06    3.674129e+06  3.590480e-02    1.585775e-03  \n",
       "min      0.000000e+00    0.000000e+00  0.000000e+00    0.000000e+00  \n",
       "25%      0.000000e+00    0.000000e+00  0.000000e+00    0.000000e+00  \n",
       "50%      1.327057e+05    2.146614e+05  0.000000e+00    0.000000e+00  \n",
       "75%      9.430367e+05    1.111909e+06  0.000000e+00    0.000000e+00  \n",
       "max      3.560159e+08    3.561793e+08  1.000000e+00    1.000000e+00  "
      ]
     },
     "execution_count": 6,
     "metadata": {},
     "output_type": "execute_result"
    }
   ],
   "source": [
    "Fraud.describe()"
   ]
  },
  {
   "cell_type": "markdown",
   "id": "866ed1e5",
   "metadata": {},
   "source": [
    "### Check For Missing Values"
   ]
  },
  {
   "cell_type": "code",
   "execution_count": 7,
   "id": "97fdfb69",
   "metadata": {},
   "outputs": [
    {
     "data": {
      "text/plain": [
       "step              0\n",
       "type              0\n",
       "amount            0\n",
       "nameOrig          0\n",
       "oldbalanceOrg     0\n",
       "newbalanceOrig    0\n",
       "nameDest          0\n",
       "oldbalanceDest    0\n",
       "newbalanceDest    0\n",
       "isFraud           0\n",
       "isFlaggedFraud    0\n",
       "dtype: int64"
      ]
     },
     "execution_count": 7,
     "metadata": {},
     "output_type": "execute_result"
    }
   ],
   "source": [
    "Fraud.isnull().sum()"
   ]
  },
  {
   "cell_type": "markdown",
   "id": "0a53380d",
   "metadata": {},
   "source": [
    "##### No missing value found"
   ]
  },
  {
   "cell_type": "markdown",
   "id": "fa8f96fa",
   "metadata": {},
   "source": [
    "### Data Pre-Processing"
   ]
  },
  {
   "cell_type": "code",
   "execution_count": 9,
   "id": "ae46cfa2",
   "metadata": {},
   "outputs": [
    {
     "data": {
      "text/plain": [
       "0    6354407\n",
       "1       8213\n",
       "Name: isFraud, dtype: int64"
      ]
     },
     "execution_count": 9,
     "metadata": {},
     "output_type": "execute_result"
    }
   ],
   "source": [
    "Fraud['isFraud'].value_counts()"
   ]
  },
  {
   "cell_type": "code",
   "execution_count": 10,
   "id": "6814bc93",
   "metadata": {},
   "outputs": [
    {
     "data": {
      "text/plain": [
       "0    6362604\n",
       "1         16\n",
       "Name: isFlaggedFraud, dtype: int64"
      ]
     },
     "execution_count": 10,
     "metadata": {},
     "output_type": "execute_result"
    }
   ],
   "source": [
    "Fraud['isFlaggedFraud'].value_counts()"
   ]
  },
  {
   "cell_type": "code",
   "execution_count": 11,
   "id": "310a82da",
   "metadata": {},
   "outputs": [
    {
     "data": {
      "text/plain": [
       "array(['PAYMENT', 'TRANSFER', 'CASH_OUT', 'DEBIT', 'CASH_IN'],\n",
       "      dtype=object)"
      ]
     },
     "execution_count": 11,
     "metadata": {},
     "output_type": "execute_result"
    }
   ],
   "source": [
    "Fraud.type.unique()"
   ]
  },
  {
   "cell_type": "code",
   "execution_count": 12,
   "id": "c65df99b",
   "metadata": {},
   "outputs": [
    {
     "name": "stderr",
     "output_type": "stream",
     "text": [
      "C:\\Users\\Shree\\anaconda3\\lib\\site-packages\\seaborn\\_decorators.py:36: FutureWarning: Pass the following variable as a keyword arg: x. From version 0.12, the only valid positional argument will be `data`, and passing other arguments without an explicit keyword will result in an error or misinterpretation.\n",
      "  warnings.warn(\n"
     ]
    },
    {
     "data": {
      "text/plain": [
       "<AxesSubplot:xlabel='type', ylabel='count'>"
      ]
     },
     "execution_count": 12,
     "metadata": {},
     "output_type": "execute_result"
    },
    {
     "data": {
      "image/png": "[encoded data removed]",
      "text/plain": [
       "<Figure size 640x480 with 1 Axes>"
      ]
     },
     "metadata": {},
     "output_type": "display_data"
    }
   ],
   "source": [
    "sns.countplot(Fraud['type'])"
   ]
  },
  {
   "cell_type": "code",
   "execution_count": 13,
   "id": "9ed701fb",
   "metadata": {},
   "outputs": [
    {
     "data": {
      "text/plain": [
       "0    6354407\n",
       "1       8213\n",
       "Name: isFraud, dtype: int64"
      ]
     },
     "execution_count": 13,
     "metadata": {},
     "output_type": "execute_result"
    }
   ],
   "source": [
    "Fraud['isFraud'].value_counts()"
   ]
  },
  {
   "cell_type": "code",
   "execution_count": 14,
   "id": "9a6146ad",
   "metadata": {},
   "outputs": [
    {
     "data": {
      "text/plain": [
       "<AxesSubplot:>"
      ]
     },
     "execution_count": 14,
     "metadata": {},
     "output_type": "execute_result"
    },
    {
     "data": {
      "image/png": "[encoded data removed]",
      "text/plain": [
       "<Figure size 640x480 with 1 Axes>"
      ]
     },
     "metadata": {},
     "output_type": "display_data"
    }
   ],
   "source": [
    "Fraud['isFraud'].value_counts().plot(kind=\"bar\")"
   ]
  },
  {
   "cell_type": "markdown",
   "id": "cc25b460",
   "metadata": {},
   "source": [
    "### check Dataset"
   ]
  },
  {
   "cell_type": "code",
   "execution_count": 15,
   "id": "3e536227",
   "metadata": {},
   "outputs": [
    {
     "data": {
      "text/plain": [
       "0    6354407\n",
       "1       8213\n",
       "Name: isFraud, dtype: int64"
      ]
     },
     "execution_count": 15,
     "metadata": {},
     "output_type": "execute_result"
    }
   ],
   "source": [
    "class_counts = Fraud['isFraud'].value_counts()\n",
    "class_counts"
   ]
  },
  {
   "cell_type": "code",
   "execution_count": 16,
   "id": "8fca50c0",
   "metadata": {},
   "outputs": [
    {
     "name": "stdout",
     "output_type": "stream",
     "text": [
      "% of genuine transactions: 99.8709 %\n",
      "% of Fraud transactions: 0.1291 %\n"
     ]
    }
   ],
   "source": [
    "genuine = len(Fraud[Fraud.isFraud == 0])\n",
    "fraud = len(Fraud[Fraud.isFraud == 1])\n",
    "genuine_percentage = (genuine / (fraud + genuine)) * 100\n",
    "fraud_percentage = (fraud / (fraud + genuine)) * 100\n",
    "\n",
    "print(\"% of genuine transactions: {:.4f} %\".format(genuine_percentage))\n",
    "print(\"% of Fraud transactions: {:.4f} %\".format(fraud_percentage))"
   ]
  },
  {
   "cell_type": "markdown",
   "id": "f0e45fb2",
   "metadata": {},
   "source": [
    "#### This data is Highly Imbalance data\n",
    "#### So we need to first handle imbalance data"
   ]
  },
  {
   "cell_type": "code",
   "execution_count": 17,
   "id": "5249890d",
   "metadata": {},
   "outputs": [
    {
     "data": {
      "text/html": [
       "<div>\n",
       "<style scoped>\n",
       "    .dataframe tbody tr th:only-of-type {\n",
       "        vertical-align: middle;\n",
       "    }\n",
       "\n",
       "    .dataframe tbody tr th {\n",
       "        vertical-align: top;\n",
       "    }\n",
       "\n",
       "    .dataframe thead th {\n",
       "        text-align: right;\n",
       "    }\n",
       "</style>\n",
       "<table border=\"1\" class=\"dataframe\">\n",
       "  <thead>\n",
       "    <tr style=\"text-align: right;\">\n",
       "      <th></th>\n",
       "      <th>step</th>\n",
       "      <th>type</th>\n",
       "      <th>amount</th>\n",
       "      <th>nameOrig</th>\n",
       "      <th>oldbalanceOrg</th>\n",
       "      <th>nameDest</th>\n",
       "      <th>oldbalanceDest</th>\n",
       "      <th>isFraud</th>\n",
       "      <th>isFlaggedFraud</th>\n",
       "    </tr>\n",
       "  </thead>\n",
       "  <tbody>\n",
       "    <tr>\n",
       "      <th>0</th>\n",
       "      <td>1</td>\n",
       "      <td>PAYMENT</td>\n",
       "      <td>9839.64</td>\n",
       "      <td>C1231006815</td>\n",
       "      <td>170136.0</td>\n",
       "      <td>M1979787155</td>\n",
       "      <td>0.0</td>\n",
       "      <td>0</td>\n",
       "      <td>0</td>\n",
       "    </tr>\n",
       "    <tr>\n",
       "      <th>1</th>\n",
       "      <td>1</td>\n",
       "      <td>PAYMENT</td>\n",
       "      <td>1864.28</td>\n",
       "      <td>C1666544295</td>\n",
       "      <td>21249.0</td>\n",
       "      <td>M2044282225</td>\n",
       "      <td>0.0</td>\n",
       "      <td>0</td>\n",
       "      <td>0</td>\n",
       "    </tr>\n",
       "    <tr>\n",
       "      <th>2</th>\n",
       "      <td>1</td>\n",
       "      <td>TRANSFER</td>\n",
       "      <td>181.00</td>\n",
       "      <td>C1305486145</td>\n",
       "      <td>181.0</td>\n",
       "      <td>C553264065</td>\n",
       "      <td>0.0</td>\n",
       "      <td>1</td>\n",
       "      <td>0</td>\n",
       "    </tr>\n",
       "    <tr>\n",
       "      <th>3</th>\n",
       "      <td>1</td>\n",
       "      <td>CASH_OUT</td>\n",
       "      <td>181.00</td>\n",
       "      <td>C840083671</td>\n",
       "      <td>181.0</td>\n",
       "      <td>C38997010</td>\n",
       "      <td>21182.0</td>\n",
       "      <td>1</td>\n",
       "      <td>0</td>\n",
       "    </tr>\n",
       "    <tr>\n",
       "      <th>4</th>\n",
       "      <td>1</td>\n",
       "      <td>PAYMENT</td>\n",
       "      <td>11668.14</td>\n",
       "      <td>C2048537720</td>\n",
       "      <td>41554.0</td>\n",
       "      <td>M1230701703</td>\n",
       "      <td>0.0</td>\n",
       "      <td>0</td>\n",
       "      <td>0</td>\n",
       "    </tr>\n",
       "  </tbody>\n",
       "</table>\n",
       "</div>"
      ],
      "text/plain": [
       "   step      type    amount     nameOrig  oldbalanceOrg     nameDest  \\\n",
       "0     1   PAYMENT   9839.64  C1231006815       170136.0  M1979787155   \n",
       "1     1   PAYMENT   1864.28  C1666544295        21249.0  M2044282225   \n",
       "2     1  TRANSFER    181.00  C1305486145          181.0   C553264065   \n",
       "3     1  CASH_OUT    181.00   C840083671          181.0    C38997010   \n",
       "4     1   PAYMENT  11668.14  C2048537720        41554.0  M1230701703   \n",
       "\n",
       "   oldbalanceDest  isFraud  isFlaggedFraud  \n",
       "0             0.0        0               0  \n",
       "1             0.0        0               0  \n",
       "2             0.0        1               0  \n",
       "3         21182.0        1               0  \n",
       "4             0.0        0               0  "
      ]
     },
     "execution_count": 17,
     "metadata": {},
     "output_type": "execute_result"
    }
   ],
   "source": [
    "Fraud.head()"
   ]
  },
  {
   "cell_type": "markdown",
   "id": "35db5e78",
   "metadata": {},
   "source": [
    "### Taking subset data of Number"
   ]
  },
  {
   "cell_type": "code",
   "execution_count": 18,
   "id": "7f4b608f",
   "metadata": {},
   "outputs": [
    {
     "data": {
      "text/html": [
       "<div>\n",
       "<style scoped>\n",
       "    .dataframe tbody tr th:only-of-type {\n",
       "        vertical-align: middle;\n",
       "    }\n",
       "\n",
       "    .dataframe tbody tr th {\n",
       "        vertical-align: top;\n",
       "    }\n",
       "\n",
       "    .dataframe thead th {\n",
       "        text-align: right;\n",
       "    }\n",
       "</style>\n",
       "<table border=\"1\" class=\"dataframe\">\n",
       "  <thead>\n",
       "    <tr style=\"text-align: right;\">\n",
       "      <th></th>\n",
       "      <th>step</th>\n",
       "      <th>amount</th>\n",
       "      <th>oldbalanceOrg</th>\n",
       "      <th>oldbalanceDest</th>\n",
       "      <th>isFraud</th>\n",
       "      <th>isFlaggedFraud</th>\n",
       "    </tr>\n",
       "  </thead>\n",
       "  <tbody>\n",
       "    <tr>\n",
       "      <th>0</th>\n",
       "      <td>1</td>\n",
       "      <td>9839.64</td>\n",
       "      <td>170136.0</td>\n",
       "      <td>0.0</td>\n",
       "      <td>0</td>\n",
       "      <td>0</td>\n",
       "    </tr>\n",
       "    <tr>\n",
       "      <th>1</th>\n",
       "      <td>1</td>\n",
       "      <td>1864.28</td>\n",
       "      <td>21249.0</td>\n",
       "      <td>0.0</td>\n",
       "      <td>0</td>\n",
       "      <td>0</td>\n",
       "    </tr>\n",
       "    <tr>\n",
       "      <th>2</th>\n",
       "      <td>1</td>\n",
       "      <td>181.00</td>\n",
       "      <td>181.0</td>\n",
       "      <td>0.0</td>\n",
       "      <td>1</td>\n",
       "      <td>0</td>\n",
       "    </tr>\n",
       "  </tbody>\n",
       "</table>\n",
       "</div>"
      ],
      "text/plain": [
       "   step   amount  oldbalanceOrg  oldbalanceDest  isFraud  isFlaggedFraud\n",
       "0     1  9839.64       170136.0             0.0        0               0\n",
       "1     1  1864.28        21249.0             0.0        0               0\n",
       "2     1   181.00          181.0             0.0        1               0"
      ]
     },
     "execution_count": 18,
     "metadata": {},
     "output_type": "execute_result"
    }
   ],
   "source": [
    "# # Numeric columns\n",
    "Fraud_num = Fraud[Fraud.select_dtypes(include=[np.number]).columns.tolist()]\n",
    "Fraud_num.head(3)"
   ]
  },
  {
   "cell_type": "markdown",
   "id": "92d72b92",
   "metadata": {},
   "source": [
    "### Taking subset data of Category"
   ]
  },
  {
   "cell_type": "code",
   "execution_count": 19,
   "id": "5394528c",
   "metadata": {},
   "outputs": [
    {
     "data": {
      "text/html": [
       "<div>\n",
       "<style scoped>\n",
       "    .dataframe tbody tr th:only-of-type {\n",
       "        vertical-align: middle;\n",
       "    }\n",
       "\n",
       "    .dataframe tbody tr th {\n",
       "        vertical-align: top;\n",
       "    }\n",
       "\n",
       "    .dataframe thead th {\n",
       "        text-align: right;\n",
       "    }\n",
       "</style>\n",
       "<table border=\"1\" class=\"dataframe\">\n",
       "  <thead>\n",
       "    <tr style=\"text-align: right;\">\n",
       "      <th></th>\n",
       "      <th>type</th>\n",
       "      <th>nameOrig</th>\n",
       "      <th>nameDest</th>\n",
       "    </tr>\n",
       "  </thead>\n",
       "  <tbody>\n",
       "    <tr>\n",
       "      <th>0</th>\n",
       "      <td>PAYMENT</td>\n",
       "      <td>C1231006815</td>\n",
       "      <td>M1979787155</td>\n",
       "    </tr>\n",
       "    <tr>\n",
       "      <th>1</th>\n",
       "      <td>PAYMENT</td>\n",
       "      <td>C1666544295</td>\n",
       "      <td>M2044282225</td>\n",
       "    </tr>\n",
       "    <tr>\n",
       "      <th>2</th>\n",
       "      <td>TRANSFER</td>\n",
       "      <td>C1305486145</td>\n",
       "      <td>C553264065</td>\n",
       "    </tr>\n",
       "  </tbody>\n",
       "</table>\n",
       "</div>"
      ],
      "text/plain": [
       "       type     nameOrig     nameDest\n",
       "0   PAYMENT  C1231006815  M1979787155\n",
       "1   PAYMENT  C1666544295  M2044282225\n",
       "2  TRANSFER  C1305486145   C553264065"
      ]
     },
     "execution_count": 19,
     "metadata": {},
     "output_type": "execute_result"
    }
   ],
   "source": [
    "Fraud_char = Fraud[Fraud.select_dtypes(include=['object']).columns.tolist()]\n",
    "Fraud_char.head(3)"
   ]
  },
  {
   "cell_type": "markdown",
   "id": "ff2f00ee",
   "metadata": {},
   "source": [
    "#### LABEL ENCODING\n",
    "\n",
    "* There are 3 attributes here which are categorical.\n",
    "* label encode categorical data columns"
   ]
  },
  {
   "cell_type": "code",
   "execution_count": 20,
   "id": "3c2a0698",
   "metadata": {},
   "outputs": [
    {
     "data": {
      "text/html": [
       "<div>\n",
       "<style scoped>\n",
       "    .dataframe tbody tr th:only-of-type {\n",
       "        vertical-align: middle;\n",
       "    }\n",
       "\n",
       "    .dataframe tbody tr th {\n",
       "        vertical-align: top;\n",
       "    }\n",
       "\n",
       "    .dataframe thead th {\n",
       "        text-align: right;\n",
       "    }\n",
       "</style>\n",
       "<table border=\"1\" class=\"dataframe\">\n",
       "  <thead>\n",
       "    <tr style=\"text-align: right;\">\n",
       "      <th></th>\n",
       "      <th>type</th>\n",
       "      <th>nameOrig</th>\n",
       "      <th>nameDest</th>\n",
       "    </tr>\n",
       "  </thead>\n",
       "  <tbody>\n",
       "    <tr>\n",
       "      <th>0</th>\n",
       "      <td>3</td>\n",
       "      <td>757869</td>\n",
       "      <td>1662094</td>\n",
       "    </tr>\n",
       "    <tr>\n",
       "      <th>1</th>\n",
       "      <td>3</td>\n",
       "      <td>2188998</td>\n",
       "      <td>1733924</td>\n",
       "    </tr>\n",
       "    <tr>\n",
       "      <th>2</th>\n",
       "      <td>4</td>\n",
       "      <td>1002156</td>\n",
       "      <td>439685</td>\n",
       "    </tr>\n",
       "  </tbody>\n",
       "</table>\n",
       "</div>"
      ],
      "text/plain": [
       "   type  nameOrig  nameDest\n",
       "0     3    757869   1662094\n",
       "1     3   2188998   1733924\n",
       "2     4   1002156    439685"
      ]
     },
     "execution_count": 20,
     "metadata": {},
     "output_type": "execute_result"
    }
   ],
   "source": [
    "from sklearn.preprocessing import LabelEncoder\n",
    "Fraud_char=Fraud_char.apply(LabelEncoder().fit_transform)\n",
    "Fraud_char.head(3)\n",
    "# label in ascending order"
   ]
  },
  {
   "cell_type": "markdown",
   "id": "abe9d771",
   "metadata": {},
   "source": [
    "### Combine to Dataset"
   ]
  },
  {
   "cell_type": "code",
   "execution_count": 21,
   "id": "13fac761",
   "metadata": {},
   "outputs": [],
   "source": [
    "Fraud_combined = pd.concat([Fraud_num, Fraud_char],axis=1)"
   ]
  },
  {
   "cell_type": "code",
   "execution_count": 22,
   "id": "ed830969",
   "metadata": {},
   "outputs": [
    {
     "data": {
      "text/html": [
       "<div>\n",
       "<style scoped>\n",
       "    .dataframe tbody tr th:only-of-type {\n",
       "        vertical-align: middle;\n",
       "    }\n",
       "\n",
       "    .dataframe tbody tr th {\n",
       "        vertical-align: top;\n",
       "    }\n",
       "\n",
       "    .dataframe thead th {\n",
       "        text-align: right;\n",
       "    }\n",
       "</style>\n",
       "<table border=\"1\" class=\"dataframe\">\n",
       "  <thead>\n",
       "    <tr style=\"text-align: right;\">\n",
       "      <th></th>\n",
       "      <th>step</th>\n",
       "      <th>amount</th>\n",
       "      <th>oldbalanceOrg</th>\n",
       "      <th>oldbalanceDest</th>\n",
       "      <th>isFraud</th>\n",
       "      <th>isFlaggedFraud</th>\n",
       "      <th>type</th>\n",
       "      <th>nameOrig</th>\n",
       "      <th>nameDest</th>\n",
       "    </tr>\n",
       "  </thead>\n",
       "  <tbody>\n",
       "    <tr>\n",
       "      <th>0</th>\n",
       "      <td>1</td>\n",
       "      <td>9839.64</td>\n",
       "      <td>170136.0</td>\n",
       "      <td>0.0</td>\n",
       "      <td>0</td>\n",
       "      <td>0</td>\n",
       "      <td>3</td>\n",
       "      <td>757869</td>\n",
       "      <td>1662094</td>\n",
       "    </tr>\n",
       "    <tr>\n",
       "      <th>1</th>\n",
       "      <td>1</td>\n",
       "      <td>1864.28</td>\n",
       "      <td>21249.0</td>\n",
       "      <td>0.0</td>\n",
       "      <td>0</td>\n",
       "      <td>0</td>\n",
       "      <td>3</td>\n",
       "      <td>2188998</td>\n",
       "      <td>1733924</td>\n",
       "    </tr>\n",
       "    <tr>\n",
       "      <th>2</th>\n",
       "      <td>1</td>\n",
       "      <td>181.00</td>\n",
       "      <td>181.0</td>\n",
       "      <td>0.0</td>\n",
       "      <td>1</td>\n",
       "      <td>0</td>\n",
       "      <td>4</td>\n",
       "      <td>1002156</td>\n",
       "      <td>439685</td>\n",
       "    </tr>\n",
       "    <tr>\n",
       "      <th>3</th>\n",
       "      <td>1</td>\n",
       "      <td>181.00</td>\n",
       "      <td>181.0</td>\n",
       "      <td>21182.0</td>\n",
       "      <td>1</td>\n",
       "      <td>0</td>\n",
       "      <td>1</td>\n",
       "      <td>5828262</td>\n",
       "      <td>391696</td>\n",
       "    </tr>\n",
       "    <tr>\n",
       "      <th>4</th>\n",
       "      <td>1</td>\n",
       "      <td>11668.14</td>\n",
       "      <td>41554.0</td>\n",
       "      <td>0.0</td>\n",
       "      <td>0</td>\n",
       "      <td>0</td>\n",
       "      <td>3</td>\n",
       "      <td>3445981</td>\n",
       "      <td>828919</td>\n",
       "    </tr>\n",
       "  </tbody>\n",
       "</table>\n",
       "</div>"
      ],
      "text/plain": [
       "   step    amount  oldbalanceOrg  oldbalanceDest  isFraud  isFlaggedFraud  \\\n",
       "0     1   9839.64       170136.0             0.0        0               0   \n",
       "1     1   1864.28        21249.0             0.0        0               0   \n",
       "2     1    181.00          181.0             0.0        1               0   \n",
       "3     1    181.00          181.0         21182.0        1               0   \n",
       "4     1  11668.14        41554.0             0.0        0               0   \n",
       "\n",
       "   type  nameOrig  nameDest  \n",
       "0     3    757869   1662094  \n",
       "1     3   2188998   1733924  \n",
       "2     4   1002156    439685  \n",
       "3     1   5828262    391696  \n",
       "4     3   3445981    828919  "
      ]
     },
     "execution_count": 22,
     "metadata": {},
     "output_type": "execute_result"
    }
   ],
   "source": [
    "Fraud_combined.head()"
   ]
  },
  {
   "cell_type": "code",
   "execution_count": null,
   "id": "294a9558",
   "metadata": {},
   "outputs": [],
   "source": []
  },
  {
   "cell_type": "code",
   "execution_count": 23,
   "id": "723f58ba",
   "metadata": {},
   "outputs": [
    {
     "name": "stdout",
     "output_type": "stream",
     "text": [
      "<class 'pandas.core.frame.DataFrame'>\n",
      "RangeIndex: 6362620 entries, 0 to 6362619\n",
      "Data columns (total 9 columns):\n",
      " #   Column          Dtype  \n",
      "---  ------          -----  \n",
      " 0   step            int64  \n",
      " 1   amount          float64\n",
      " 2   oldbalanceOrg   float64\n",
      " 3   oldbalanceDest  float64\n",
      " 4   isFraud         int64  \n",
      " 5   isFlaggedFraud  int64  \n",
      " 6   type            int32  \n",
      " 7   nameOrig        int32  \n",
      " 8   nameDest        int32  \n",
      "dtypes: float64(3), int32(3), int64(3)\n",
      "memory usage: 364.1 MB\n"
     ]
    }
   ],
   "source": [
    "Fraud_combined.info()"
   ]
  },
  {
   "cell_type": "markdown",
   "id": "eeda555a",
   "metadata": {},
   "source": [
    "### Split the data into features (X) and target (y)"
   ]
  },
  {
   "cell_type": "code",
   "execution_count": 24,
   "id": "f142c8e6",
   "metadata": {},
   "outputs": [],
   "source": [
    "x = Fraud_combined.drop('isFraud', axis=1)\n",
    "y = Fraud_combined['isFraud']\n"
   ]
  },
  {
   "cell_type": "code",
   "execution_count": 25,
   "id": "56a85c6b",
   "metadata": {},
   "outputs": [
    {
     "data": {
      "text/plain": [
       "0    6354407\n",
       "1       8213\n",
       "Name: isFraud, dtype: int64"
      ]
     },
     "execution_count": 25,
     "metadata": {},
     "output_type": "execute_result"
    }
   ],
   "source": [
    "y.value_counts()"
   ]
  },
  {
   "cell_type": "markdown",
   "id": "0e25ac9c",
   "metadata": {},
   "source": [
    "### Split the data into training and testing sets"
   ]
  },
  {
   "cell_type": "code",
   "execution_count": 26,
   "id": "d0440113",
   "metadata": {},
   "outputs": [],
   "source": [
    "# Split the data into training and testing sets\n",
    "X_train, X_test, y_train, y_test = train_test_split(x, y, test_size=0.2, random_state=9,stratify=y)"
   ]
  },
  {
   "cell_type": "markdown",
   "id": "e0d1b49e",
   "metadata": {},
   "source": [
    "#### Data augmentation\n",
    "Using Synthetic Minority Oversampling TEchnique (SMOTE) to remove imbalancement in y data"
   ]
  },
  {
   "cell_type": "code",
   "execution_count": 27,
   "id": "fecb3e2a",
   "metadata": {},
   "outputs": [],
   "source": [
    "#Handle class imbalance using SMOTE oversampling\n",
    "oversample = SMOTE()\n",
    "X_train_resampled, y_train_resampled = oversample.fit_resample(X_train, y_train)"
   ]
  },
  {
   "cell_type": "markdown",
   "id": "bac2f599",
   "metadata": {},
   "source": [
    "### Scale the data using z-score normalization"
   ]
  },
  {
   "cell_type": "code",
   "execution_count": 28,
   "id": "1b0a1a75",
   "metadata": {},
   "outputs": [],
   "source": [
    "# Scale the data using z-score normalization\n",
    "scaler = StandardScaler()\n",
    "X_train_scaled = scaler.fit_transform(X_train_resampled)\n",
    "X_test_scaled = scaler.transform(X_test)"
   ]
  },
  {
   "cell_type": "markdown",
   "id": "418d80b0",
   "metadata": {},
   "source": [
    "## 2. Describe your fraud detection model in elaboration.\n",
    "We will use a binary classification model to predict fraudulent transactions. The model will take into account the transaction type, amount, and the balances of the sender and receiver before and after the transaction. We will use a Random forest as our model."
   ]
  },
  {
   "cell_type": "markdown",
   "id": "d3eb32c7",
   "metadata": {},
   "source": [
    "## 3.How did you select variables to be included in the model?\n",
    "We selected the variables based on their potential importance in predicting fraudulent transactions. We included the transaction type, amount, and the balances of the sender and receiver before and after the transaction. We also removed any variables that had high correlation with each other to avoid multicollinearity."
   ]
  },
  {
   "cell_type": "markdown",
   "id": "41ae4f4e",
   "metadata": {},
   "source": [
    "### Now Data is Cleaned and ready to build model on that data"
   ]
  },
  {
   "cell_type": "markdown",
   "id": "4d8f2644",
   "metadata": {},
   "source": [
    "#### ** Now we choose Random Forest Model to Fraudulent-Transactions-Prediction **"
   ]
  },
  {
   "cell_type": "code",
   "execution_count": 30,
   "id": "6c2374c5",
   "metadata": {},
   "outputs": [
    {
     "data": {
      "text/plain": [
       "RandomForestClassifier(max_depth=4, max_features='sqrt', min_samples_leaf=50,\n",
       "                       min_samples_split=100, n_estimators=15)"
      ]
     },
     "execution_count": 30,
     "metadata": {},
     "output_type": "execute_result"
    }
   ],
   "source": [
    "from sklearn.ensemble import RandomForestRegressor\n",
    "from sklearn.ensemble import RandomForestClassifier\n",
    "\n",
    "# by default 100 tree will be form \n",
    "Model = RandomForestClassifier(n_estimators=15, # make 15 tress\n",
    "                               criterion=\"gini\",\n",
    "                               max_depth=4,  # each tree will have 4 branches\n",
    "                               min_samples_split=100,# each tree will have parent node\n",
    "                               min_samples_leaf=50,# each tree will have Child node\n",
    "                               max_features=\"sqrt\")# n_estimators means number tree we want  \n",
    "\n",
    "Model.fit(X_train_scaled, y_train_resampled)"
   ]
  },
  {
   "cell_type": "markdown",
   "id": "ca1ca03f",
   "metadata": {},
   "source": [
    "## 4.Demonstrate the performance of the model by using best set of tools.\n",
    "To evaluate the performance of our model, we will use the classification report, which gives us precision, recall, and F1-score for each class, as well as the overall accuracy of the model."
   ]
  },
  {
   "cell_type": "code",
   "execution_count": 35,
   "id": "972648dd",
   "metadata": {},
   "outputs": [
    {
     "name": "stdout",
     "output_type": "stream",
     "text": [
      "              precision    recall  f1-score   support\n",
      "\n",
      "           0       1.00      0.93      0.96   1270881\n",
      "           1       0.02      0.95      0.03      1643\n",
      "\n",
      "    accuracy                           0.93   1272524\n",
      "   macro avg       0.51      0.94      0.50   1272524\n",
      "weighted avg       1.00      0.93      0.96   1272524\n",
      "\n"
     ]
    }
   ],
   "source": [
    "from sklearn.metrics import classification_report\n",
    "y_pred = Model.predict(X_test_scaled)\n",
    "print(classification_report(y_test, y_pred))"
   ]
  },
  {
   "cell_type": "markdown",
   "id": "09b485f6",
   "metadata": {},
   "source": [
    "#### Model Accuracy is 93%"
   ]
  },
  {
   "cell_type": "markdown",
   "id": "be0c738c",
   "metadata": {},
   "source": [
    "## 5.What are the key factors that predict fraudulent customer?\n",
    "To identify the key factors that predict fraudulent customer, we can use feature importance, which is a technique that determines the most important features in a model. In our case, we can use the feature_importances_ attribute of the trained Random Forest model."
   ]
  },
  {
   "cell_type": "code",
   "execution_count": 31,
   "id": "30a509b2",
   "metadata": {},
   "outputs": [],
   "source": [
    "X_train_scaled_df = pd.DataFrame(X_train_scaled, columns=X_train.columns)"
   ]
  },
  {
   "cell_type": "code",
   "execution_count": 36,
   "id": "990ff298",
   "metadata": {},
   "outputs": [
    {
     "data": {
      "image/png": "[encoded data removed]",
      "text/plain": [
       "<Figure size 1000x1200 with 1 Axes>"
      ]
     },
     "metadata": {},
     "output_type": "display_data"
    }
   ],
   "source": [
    "# Plot features importances\n",
    "imp = pd.Series(data=Model.feature_importances_, index=X_train_scaled_df.columns).sort_values(ascending=False)\n",
    "plt.figure(figsize=(10,12))\n",
    "plt.title(\"Feature importance\")\n",
    "ax = sns.barplot(y=imp.index, x=imp.values, palette=\"Blues_d\", orient='h')"
   ]
  },
  {
   "cell_type": "markdown",
   "id": "b0af8793",
   "metadata": {},
   "source": [
    "From the feature importance analysis, we can see that the most important features are type, amount, and oldbalanceDest."
   ]
  },
  {
   "cell_type": "markdown",
   "id": "8a5d6b1a",
   "metadata": {},
   "source": [
    "## 6.Do these factors make sense? If yes, How? If not, How not?\n",
    "Yes, these factors make sense. Fraudulent transactions typically involve large amounts of money, and they often involve transferring funds to new or previously unused accounts. In addition, fraudulent transactions often involve the depletion of account balances, so the balances before and after the transactions are important features."
   ]
  },
  {
   "cell_type": "markdown",
   "id": "1d073303",
   "metadata": {},
   "source": [
    "## 7.What kind of prevention should be adopted while company update its infrastructure?\n",
    "There are several measures that the company can adopt to prevent fraudulent transactions. Some of these measures include:\n",
    "\n",
    "Implementing two-factor authentication for high-risk transactions\n",
    "Limiting the amount that can be transferred in a single transaction\n",
    "Monitoring transaction patterns and identifying unusual or suspicious behavior\n",
    "Conducting regular audits to detect and prevent fraudulent activities\n",
    "Providing education and training for employees to recognize and prevent fraud\n",
    "Using machine learning algorithms to detect fraudulent transactions in real-time"
   ]
  },
  {
   "cell_type": "markdown",
   "id": "3695ce5d",
   "metadata": {},
   "source": [
    "## 8.Assuming these actions have been implemented, how would you determine if they work?\n",
    "To determine if the actions have been effective in preventing fraudulent transactions, we can monitor the number and frequency of fraudulent transactions over time. If the number of fraudulent transactions decreases or if the system is able to detect and prevent fraudulent transactions in real-time, then we can conclude that the prevention measures are effective. We can also conduct regular audits to ensure that the system is functioning as intended and that there are no vulnerabilities that can be exploited by fraudulent actors."
   ]
  }
 ],
 "metadata": {
  "kernelspec": {
   "display_name": "Python 3 (ipykernel)",
   "language": "python",
   "name": "python3"
  },
  "language_info": {
   "codemirror_mode": {
    "name": "ipython",
    "version": 3
   },
   "file_extension": ".py",
   "mimetype": "text/x-python",
   "name": "python",
   "nbconvert_exporter": "python",
   "pygments_lexer": "ipython3",
   "version": "3.9.13"
  }
 },
 "nbformat": 4,
 "nbformat_minor": 5
}
